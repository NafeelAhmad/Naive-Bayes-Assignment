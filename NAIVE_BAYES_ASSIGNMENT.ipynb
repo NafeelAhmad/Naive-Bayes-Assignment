{
  "cells": [
    {
      "cell_type": "markdown",
      "metadata": {
        "id": "jvlajUCbz_KL"
      },
      "source": [
        "## NAIVE BAYES ON DONORS CHOOSE DATASET"
      ]
    },
    {
      "cell_type": "markdown",
      "metadata": {
        "id": "0DLpztFPz_KU"
      },
      "source": [
        "## 1.1 Loading Data"
      ]
    },
    {
      "cell_type": "code",
      "execution_count": null,
      "metadata": {
        "id": "_-gz8sNDz_KV",
        "outputId": "71421891-f261-4546-cfae-6ba4bc508696"
      },
      "outputs": [
        {
          "data": {
            "text/html": [
              "<div>\n",
              "<style scoped>\n",
              "    .dataframe tbody tr th:only-of-type {\n",
              "        vertical-align: middle;\n",
              "    }\n",
              "\n",
              "    .dataframe tbody tr th {\n",
              "        vertical-align: top;\n",
              "    }\n",
              "\n",
              "    .dataframe thead th {\n",
              "        text-align: right;\n",
              "    }\n",
              "</style>\n",
              "<table border=\"1\" class=\"dataframe\">\n",
              "  <thead>\n",
              "    <tr style=\"text-align: right;\">\n",
              "      <th></th>\n",
              "      <th>school_state</th>\n",
              "      <th>teacher_prefix</th>\n",
              "      <th>project_grade_category</th>\n",
              "      <th>teacher_number_of_previously_posted_projects</th>\n",
              "      <th>project_is_approved</th>\n",
              "      <th>clean_categories</th>\n",
              "      <th>clean_subcategories</th>\n",
              "      <th>essay</th>\n",
              "      <th>price</th>\n",
              "    </tr>\n",
              "  </thead>\n",
              "  <tbody>\n",
              "    <tr>\n",
              "      <th>0</th>\n",
              "      <td>ca</td>\n",
              "      <td>mrs</td>\n",
              "      <td>grades_prek_2</td>\n",
              "      <td>53</td>\n",
              "      <td>1</td>\n",
              "      <td>math_science</td>\n",
              "      <td>appliedsciences health_lifescience</td>\n",
              "      <td>i fortunate enough use fairy tale stem kits cl...</td>\n",
              "      <td>725.05</td>\n",
              "    </tr>\n",
              "    <tr>\n",
              "      <th>1</th>\n",
              "      <td>ut</td>\n",
              "      <td>ms</td>\n",
              "      <td>grades_3_5</td>\n",
              "      <td>4</td>\n",
              "      <td>1</td>\n",
              "      <td>specialneeds</td>\n",
              "      <td>specialneeds</td>\n",
              "      <td>imagine 8 9 years old you third grade classroo...</td>\n",
              "      <td>213.03</td>\n",
              "    </tr>\n",
              "  </tbody>\n",
              "</table>\n",
              "</div>"
            ],
            "text/plain": [
              "  school_state teacher_prefix project_grade_category  \\\n",
              "0           ca            mrs          grades_prek_2   \n",
              "1           ut             ms             grades_3_5   \n",
              "\n",
              "   teacher_number_of_previously_posted_projects  project_is_approved  \\\n",
              "0                                            53                    1   \n",
              "1                                             4                    1   \n",
              "\n",
              "  clean_categories                 clean_subcategories  \\\n",
              "0     math_science  appliedsciences health_lifescience   \n",
              "1     specialneeds                        specialneeds   \n",
              "\n",
              "                                               essay   price  \n",
              "0  i fortunate enough use fairy tale stem kits cl...  725.05  \n",
              "1  imagine 8 9 years old you third grade classroo...  213.03  "
            ]
          },
          "execution_count": 5,
          "metadata": {},
          "output_type": "execute_result"
        }
      ],
      "source": [
        "import pandas\n",
        "data = pandas.read_csv(r'C:\\Users\\NADEEM\\Downloads\\preprocessed_data.csv', nrows=50000)\n",
        "data.head(2)"
      ]
    },
    {
      "cell_type": "code",
      "execution_count": null,
      "metadata": {
        "id": "UJhbZI8Mz_KZ",
        "outputId": "a2eaed32-3774-4085-b892-c218d935fade"
      },
      "outputs": [
        {
          "data": {
            "text/html": [
              "<div>\n",
              "<style scoped>\n",
              "    .dataframe tbody tr th:only-of-type {\n",
              "        vertical-align: middle;\n",
              "    }\n",
              "\n",
              "    .dataframe tbody tr th {\n",
              "        vertical-align: top;\n",
              "    }\n",
              "\n",
              "    .dataframe thead th {\n",
              "        text-align: right;\n",
              "    }\n",
              "</style>\n",
              "<table border=\"1\" class=\"dataframe\">\n",
              "  <thead>\n",
              "    <tr style=\"text-align: right;\">\n",
              "      <th></th>\n",
              "      <th>school_state</th>\n",
              "      <th>teacher_prefix</th>\n",
              "      <th>project_grade_category</th>\n",
              "      <th>teacher_number_of_previously_posted_projects</th>\n",
              "      <th>clean_categories</th>\n",
              "      <th>clean_subcategories</th>\n",
              "      <th>essay</th>\n",
              "      <th>price</th>\n",
              "    </tr>\n",
              "  </thead>\n",
              "  <tbody>\n",
              "    <tr>\n",
              "      <th>0</th>\n",
              "      <td>ca</td>\n",
              "      <td>mrs</td>\n",
              "      <td>grades_prek_2</td>\n",
              "      <td>53</td>\n",
              "      <td>math_science</td>\n",
              "      <td>appliedsciences health_lifescience</td>\n",
              "      <td>i fortunate enough use fairy tale stem kits cl...</td>\n",
              "      <td>725.05</td>\n",
              "    </tr>\n",
              "  </tbody>\n",
              "</table>\n",
              "</div>"
            ],
            "text/plain": [
              "  school_state teacher_prefix project_grade_category  \\\n",
              "0           ca            mrs          grades_prek_2   \n",
              "\n",
              "   teacher_number_of_previously_posted_projects clean_categories  \\\n",
              "0                                            53     math_science   \n",
              "\n",
              "                  clean_subcategories  \\\n",
              "0  appliedsciences health_lifescience   \n",
              "\n",
              "                                               essay   price  \n",
              "0  i fortunate enough use fairy tale stem kits cl...  725.05  "
            ]
          },
          "execution_count": 6,
          "metadata": {},
          "output_type": "execute_result"
        }
      ],
      "source": [
        "y = data['project_is_approved'].values\n",
        "X = data.drop(['project_is_approved'], axis=1)\n",
        "X.head(1)"
      ]
    },
    {
      "cell_type": "markdown",
      "metadata": {
        "id": "YerrdUsVz_Ka"
      },
      "source": [
        "<h2>1.2 Splitting data into Train and cross validation(or test): Stratified Sampling</h2>"
      ]
    },
    {
      "cell_type": "code",
      "execution_count": null,
      "metadata": {
        "id": "lGaWPbO5z_Kb"
      },
      "outputs": [],
      "source": [
        "# train test split\n",
        "from sklearn.model_selection import train_test_split\n",
        "X_train, X_test, y_train, y_test = train_test_split(X, y, test_size=0.33, stratify=y) \n",
        " # stratify ensures the same ratio of class label in these three set\n",
        "X_train, X_cv, y_train, y_cv = train_test_split(X_train, y_train, test_size=0.33, stratify=y_train)"
      ]
    },
    {
      "cell_type": "markdown",
      "metadata": {
        "id": "42eMKxYIz_Kd"
      },
      "source": [
        "<h2>1.3 Make Data Model Ready: encoding essay, and project_title</h2>"
      ]
    },
    {
      "cell_type": "code",
      "execution_count": null,
      "metadata": {
        "id": "o-Mwqc1Iz_Ke",
        "outputId": "d35bb0d5-e1d2-432d-a8a3-27a568929dd4"
      },
      "outputs": [
        {
          "name": "stdout",
          "output_type": "stream",
          "text": [
            "(22445, 8) (22445,)\n",
            "(11055, 8) (11055,)\n",
            "(16500, 8) (16500,)\n",
            "====================================================================================================\n",
            "After vectorizations\n",
            "(22445, 5000) (22445,)\n",
            "(11055, 5000) (11055,)\n",
            "(16500, 5000) (16500,)\n",
            "====================================================================================================\n"
          ]
        }
      ],
      "source": [
        "from sklearn.feature_extraction.text import CountVectorizer\n",
        "\n",
        "print(X_train.shape, y_train.shape)\n",
        "print(X_cv.shape, y_cv.shape)\n",
        "print(X_test.shape, y_test.shape)\n",
        "\n",
        "print(\"=\"*100)\n",
        "\n",
        "\n",
        "vectorizer1 = CountVectorizer(min_df=10,ngram_range=(1,4), max_features=5000) # ngram_range : we want no. of words of length 1-4\n",
        "vectorizer1.fit(X_train['essay'].values) # fit has to happen only on train data\n",
        "\n",
        "# we use the fitted CountVectorizer to convert the text to vector\n",
        "X_train_essay_bow = vectorizer1.transform(X_train['essay'].values)\n",
        "X_cv_essay_bow = vectorizer1.transform(X_cv['essay'].values)\n",
        "X_test_essay_bow = vectorizer1.transform(X_test['essay'].values)\n",
        "\n",
        "print(\"After vectorizations\")\n",
        "print(X_train_essay_bow.shape, y_train.shape)\n",
        "print(X_cv_essay_bow.shape, y_cv.shape)\n",
        "print(X_test_essay_bow.shape, y_test.shape)\n",
        "print(\"=\"*100)"
      ]
    },
    {
      "cell_type": "code",
      "execution_count": null,
      "metadata": {
        "id": "kMiODxvtz_Kg",
        "outputId": "2f14d32f-af26-4ce3-cfae-a20fa1ca1cf8"
      },
      "outputs": [
        {
          "name": "stdout",
          "output_type": "stream",
          "text": [
            "(22445, 8802) (22445,)\n",
            "(11055, 8802) (11055,)\n",
            "(16500, 8802) (16500,)\n",
            "====================================================================================================\n"
          ]
        }
      ],
      "source": [
        "from sklearn.feature_extraction.text import TfidfVectorizer\n",
        "\n",
        "vectorizer01 = TfidfVectorizer(min_df=10)\n",
        "vectorizer01.fit(X_train['essay'].values) # fit has to happen only on train data\n",
        "\n",
        "# we use the fitted CountVectorizer to convert the text to vector\n",
        "X_train_essay_tfidf = vectorizer01.transform(X_train['essay'].values)\n",
        "X_cv_essay_tfidf = vectorizer01.transform(X_cv['essay'].values)\n",
        "X_test_essay_tfidf = vectorizer01.transform(X_test['essay'].values)\n",
        "\n",
        "print(X_train_essay_tfidf.shape, y_train.shape)\n",
        "print(X_cv_essay_tfidf.shape, y_cv.shape)\n",
        "print(X_test_essay_tfidf.shape, y_test.shape)\n",
        "print(\"=\"*100)"
      ]
    },
    {
      "cell_type": "markdown",
      "metadata": {
        "id": "aUY0woNrz_Ki"
      },
      "source": [
        "<h2>1.4 Make Data Model Ready: encoding numerical, categorical features</h2>"
      ]
    },
    {
      "cell_type": "markdown",
      "metadata": {
        "id": "6iBE3XNLz_Kj"
      },
      "source": [
        "<h3> Encoding Categorical Features:  Teacher Prefix</h3>"
      ]
    },
    {
      "cell_type": "code",
      "execution_count": null,
      "metadata": {
        "scrolled": false,
        "id": "lp2lT68Qz_Kk",
        "outputId": "5b7148ff-8991-401f-f954-f79822e2f436"
      },
      "outputs": [
        {
          "name": "stdout",
          "output_type": "stream",
          "text": [
            "After vectorizations\n",
            "(22445, 5) (22445,)\n",
            "(11055, 5) (11055,)\n",
            "(16500, 5) (16500,)\n",
            "['dr', 'mr', 'mrs', 'ms', 'teacher']\n",
            "====================================================================================================\n"
          ]
        }
      ],
      "source": [
        "vectorizer2 = CountVectorizer()\n",
        "vectorizer2.fit(X_train['teacher_prefix'].values) # fit has to happen only on train data\n",
        "\n",
        "# we use the fitted CountVectorizer to convert the text to vector\n",
        "X_train_teacher_ohe = vectorizer2.transform(X_train['teacher_prefix'].values)\n",
        "X_cv_teacher_ohe = vectorizer2.transform(X_cv['teacher_prefix'].values)\n",
        "X_test_teacher_ohe = vectorizer2.transform(X_test['teacher_prefix'].values)\n",
        "\n",
        "print(\"After vectorizations\")\n",
        "print(X_train_teacher_ohe.shape, y_train.shape)\n",
        "print(X_cv_teacher_ohe.shape, y_cv.shape)\n",
        "print(X_test_teacher_ohe.shape, y_test.shape)\n",
        "print(vectorizer2.get_feature_names())\n",
        "print(\"=\"*100)"
      ]
    },
    {
      "cell_type": "markdown",
      "metadata": {
        "id": "IUdlgsS7z_Kl"
      },
      "source": [
        "<h3> Encoding Categorical Features:  Project Grade Category</h3>"
      ]
    },
    {
      "cell_type": "code",
      "execution_count": null,
      "metadata": {
        "id": "xFR6S_hzz_Kl",
        "outputId": "6f1db5a1-3a46-4162-cc44-44f4fd457603"
      },
      "outputs": [
        {
          "name": "stdout",
          "output_type": "stream",
          "text": [
            "After vectorizations\n",
            "(22445, 4) (22445,)\n",
            "(11055, 4) (11055,)\n",
            "(16500, 4) (16500,)\n",
            "['grades_3_5', 'grades_6_8', 'grades_9_12', 'grades_prek_2']\n",
            "====================================================================================================\n"
          ]
        }
      ],
      "source": [
        "vectorizer3 = CountVectorizer()\n",
        "vectorizer3.fit(X_train['project_grade_category'].values) # fit has to happen only on train data\n",
        "\n",
        "# we use the fitted CountVectorizer to convert the text to vector\n",
        "X_train_grade_ohe = vectorizer3.transform(X_train['project_grade_category'].values)\n",
        "X_cv_grade_ohe = vectorizer3.transform(X_cv['project_grade_category'].values)\n",
        "X_test_grade_ohe = vectorizer3.transform(X_test['project_grade_category'].values)\n",
        "\n",
        "print(\"After vectorizations\")\n",
        "print(X_train_grade_ohe.shape, y_train.shape)\n",
        "print(X_cv_grade_ohe.shape, y_cv.shape)\n",
        "print(X_test_grade_ohe.shape, y_test.shape)\n",
        "print(vectorizer3.get_feature_names())\n",
        "print(\"=\"*100)"
      ]
    },
    {
      "cell_type": "markdown",
      "metadata": {
        "id": "aqCZ9xl1z_Km"
      },
      "source": [
        "<h3>Encoding Categorical Features: School State</h3>"
      ]
    },
    {
      "cell_type": "code",
      "execution_count": null,
      "metadata": {
        "id": "Dgzht3avz_Kn",
        "outputId": "870b06ac-9692-417e-b1d3-61c6cd83f235"
      },
      "outputs": [
        {
          "name": "stdout",
          "output_type": "stream",
          "text": [
            "After vectorizations\n",
            "(22445, 51) (22445,)\n",
            "(11055, 51) (11055,)\n",
            "(16500, 51) (16500,)\n",
            "['ak', 'al', 'ar', 'az', 'ca', 'co', 'ct', 'dc', 'de', 'fl', 'ga', 'hi', 'ia', 'id', 'il', 'in', 'ks', 'ky', 'la', 'ma', 'md', 'me', 'mi', 'mn', 'mo', 'ms', 'mt', 'nc', 'nd', 'ne', 'nh', 'nj', 'nm', 'nv', 'ny', 'oh', 'ok', 'or', 'pa', 'ri', 'sc', 'sd', 'tn', 'tx', 'ut', 'va', 'vt', 'wa', 'wi', 'wv', 'wy']\n",
            "====================================================================================================\n"
          ]
        }
      ],
      "source": [
        "vectorizer4 = CountVectorizer()\n",
        "vectorizer4.fit(X_train['school_state'].values) # fit has to happen only on train data\n",
        "\n",
        "# we use the fitted CountVectorizer to convert the text to vector\n",
        "X_train_state_ohe = vectorizer4.transform(X_train['school_state'].values)\n",
        "X_cv_state_ohe = vectorizer4.transform(X_cv['school_state'].values)\n",
        "X_test_state_ohe = vectorizer4.transform(X_test['school_state'].values)\n",
        "\n",
        "print(\"After vectorizations\")\n",
        "print(X_train_state_ohe.shape, y_train.shape)\n",
        "print(X_cv_state_ohe.shape, y_cv.shape)\n",
        "print(X_test_state_ohe.shape, y_test.shape)\n",
        "print(vectorizer4.get_feature_names())\n",
        "print(\"=\"*100)"
      ]
    },
    {
      "cell_type": "markdown",
      "metadata": {
        "id": "u_29wXNZz_Kn"
      },
      "source": [
        "<h3>Encoding Categorical Features: Clean Categories</h3>"
      ]
    },
    {
      "cell_type": "code",
      "execution_count": null,
      "metadata": {
        "scrolled": true,
        "id": "lGCnxFVvz_Ko",
        "outputId": "907e81ac-65f0-4279-8c4c-d1ad261c682f"
      },
      "outputs": [
        {
          "name": "stdout",
          "output_type": "stream",
          "text": [
            "After vectorizations\n",
            "(22445, 9) (22445,)\n",
            "(11055, 9) (11055,)\n",
            "(16500, 9) (16500,)\n",
            "['appliedlearning', 'care_hunger', 'health_sports', 'history_civics', 'literacy_language', 'math_science', 'music_arts', 'specialneeds', 'warmth']\n",
            "====================================================================================================\n"
          ]
        }
      ],
      "source": [
        "vectorizer5 = CountVectorizer()\n",
        "vectorizer5.fit(X_train['clean_categories'].values) # fit has to happen only on train data\n",
        "\n",
        "# we use the fitted CountVectorizer to convert the text to vector\n",
        "X_train_clean_ohe = vectorizer5.transform(X_train['clean_categories'].values)\n",
        "X_cv_clean_ohe = vectorizer5.transform(X_cv['clean_categories'].values)\n",
        "X_test_clean_ohe = vectorizer5.transform(X_test['clean_categories'].values)\n",
        "\n",
        "print(\"After vectorizations\")\n",
        "print(X_train_clean_ohe.shape, y_train.shape)\n",
        "print(X_cv_clean_ohe.shape, y_cv.shape)\n",
        "print(X_test_clean_ohe.shape, y_test.shape)\n",
        "print(vectorizer5.get_feature_names())\n",
        "print(\"=\"*100)"
      ]
    },
    {
      "cell_type": "markdown",
      "metadata": {
        "id": "QDREwD_ez_Kp"
      },
      "source": [
        "<h3>Encoding Categorical Features: Clean Subcategories</h3>"
      ]
    },
    {
      "cell_type": "code",
      "execution_count": null,
      "metadata": {
        "id": "SqHXuW0vz_Kp",
        "outputId": "4f29c168-da6d-44c1-f515-0c6f4b7dc327"
      },
      "outputs": [
        {
          "name": "stdout",
          "output_type": "stream",
          "text": [
            "After vectorizations\n",
            "(22445, 30) (22445,)\n",
            "(11055, 30) (11055,)\n",
            "(16500, 30) (16500,)\n",
            "['appliedsciences', 'care_hunger', 'charactereducation', 'civics_government', 'college_careerprep', 'communityservice', 'earlydevelopment', 'economics', 'environmentalscience', 'esl', 'extracurricular', 'financialliteracy', 'foreignlanguages', 'gym_fitness', 'health_lifescience', 'health_wellness', 'history_geography', 'literacy', 'literature_writing', 'mathematics', 'music', 'nutritioneducation', 'other', 'parentinvolvement', 'performingarts', 'socialsciences', 'specialneeds', 'teamsports', 'visualarts', 'warmth']\n",
            "====================================================================================================\n"
          ]
        }
      ],
      "source": [
        "vectorizer6 = CountVectorizer()\n",
        "vectorizer6.fit(X_train['clean_subcategories'].values) # fit has to happen only on train data\n",
        "\n",
        "# we use the fitted CountVectorizer to convert the text to vector\n",
        "X_train_clean_sub_ohe = vectorizer6.transform(X_train['clean_subcategories'].values)\n",
        "X_cv_clean_sub_ohe = vectorizer6.transform(X_cv['clean_subcategories'].values)\n",
        "X_test_clean_sub_ohe = vectorizer6.transform(X_test['clean_subcategories'].values)\n",
        "\n",
        "print(\"After vectorizations\")\n",
        "print(X_train_clean_sub_ohe.shape, y_train.shape)\n",
        "print(X_cv_clean_sub_ohe.shape, y_cv.shape)\n",
        "print(X_test_clean_sub_ohe.shape, y_test.shape)\n",
        "print(vectorizer6.get_feature_names())\n",
        "print(\"=\"*100)"
      ]
    },
    {
      "cell_type": "markdown",
      "metadata": {
        "id": "vgxvSuXNz_Kr"
      },
      "source": [
        "<h3> Encoding Categorical Features: Price</h3>"
      ]
    },
    {
      "cell_type": "code",
      "execution_count": null,
      "metadata": {
        "id": "aH7TWPFez_Kr",
        "outputId": "30feeb38-9aeb-4e2c-aac0-a9bbdb366fcc"
      },
      "outputs": [
        {
          "name": "stdout",
          "output_type": "stream",
          "text": [
            "After vectorizations\n",
            "(22445, 1) (22445,)\n",
            "(11055, 1) (11055,)\n",
            "(16500, 1) (16500,)\n",
            "====================================================================================================\n"
          ]
        }
      ],
      "source": [
        "from sklearn.preprocessing import Normalizer\n",
        "normalizer = Normalizer()\n",
        "# normalizer.fit(X_train['price'].values)\n",
        "# this will rise an error Expected 2D array, got 1D array instead: \n",
        "# array=[105.22 215.96  96.01 ... 368.98  80.53 709.67].\n",
        "# Reshape your data either using \n",
        "# array.reshape(-1, 1) if your data has a single feature \n",
        "# array.reshape(1, -1)  if it contains a single sample.\n",
        "normalizer.fit(X_train['price'].values.reshape(-1,1))\n",
        "\n",
        "X_train_price_norm = normalizer.transform(X_train['price'].values.reshape(-1,1))\n",
        "X_cv_price_norm = normalizer.transform(X_cv['price'].values.reshape(-1,1))\n",
        "X_test_price_norm = normalizer.transform(X_test['price'].values.reshape(-1,1))\n",
        "\n",
        "\n",
        "\n",
        "print(\"After vectorizations\")\n",
        "print(X_train_price_norm.shape, y_train.shape)\n",
        "print(X_cv_price_norm.shape, y_cv.shape)\n",
        "print(X_test_price_norm.shape, y_test.shape)\n",
        "print(\"=\"*100)"
      ]
    },
    {
      "cell_type": "markdown",
      "metadata": {
        "id": "OFC-fGElz_Kt"
      },
      "source": [
        "<h3> Encoding Categorical Features: No. of Teacher who previously posted projects </h3>"
      ]
    },
    {
      "cell_type": "code",
      "execution_count": null,
      "metadata": {
        "id": "aUYu7BXFz_Ku",
        "outputId": "4ceb5bb3-b3d2-4532-ad59-285200d3a790"
      },
      "outputs": [
        {
          "name": "stdout",
          "output_type": "stream",
          "text": [
            "After vectorizations\n",
            "(22445, 1) (22445,)\n",
            "(11055, 1) (11055,)\n",
            "(16500, 1) (16500,)\n",
            "====================================================================================================\n"
          ]
        }
      ],
      "source": [
        "from sklearn.preprocessing import Normalizer\n",
        "normalizer = Normalizer()\n",
        "# normalizer.fit(X_train['price'].values)\n",
        "# this will rise an error Expected 2D array, got 1D array instead: \n",
        "# array=[105.22 215.96  96.01 ... 368.98  80.53 709.67].\n",
        "# Reshape your data either using \n",
        "# array.reshape(-1, 1) if your data has a single feature \n",
        "# array.reshape(1, -1)  if it contains a single sample.\n",
        "normalizer.fit(X_train['teacher_number_of_previously_posted_projects'].values.reshape(-1,1))\n",
        "\n",
        "X_train_previous_project_norm = normalizer.transform(X_train['teacher_number_of_previously_posted_projects'].values.reshape(-1,1))\n",
        "X_cv_previous_project_norm = normalizer.transform(X_cv['teacher_number_of_previously_posted_projects'].values.reshape(-1,1))\n",
        "X_test_previous_project_norm = normalizer.transform(X_test['teacher_number_of_previously_posted_projects'].values.reshape(-1,1))\n",
        "\n",
        "\n",
        "\n",
        "print(\"After vectorizations\")\n",
        "print(X_train_previous_project_norm.shape, y_train.shape)\n",
        "print(X_cv_previous_project_norm.shape, y_cv.shape)\n",
        "print(X_test_previous_project_norm.shape, y_test.shape)\n",
        "print(\"=\"*100)"
      ]
    },
    {
      "cell_type": "markdown",
      "metadata": {
        "id": "QyITCmFqz_Kv"
      },
      "source": [
        "<h2>1.5 Appling NB on different kind of featurization as mentioned in the instructions</h2>\n",
        "\n",
        "<br>Apply NB on different kind of featurization as mentioned in the instructions\n",
        "<br> For Every model that you work on make sure you do the step 2 and step 3 of instrucations"
      ]
    },
    {
      "cell_type": "markdown",
      "metadata": {
        "id": "JNj7E1e9z_Kw"
      },
      "source": [
        "### Concatinating all the features"
      ]
    },
    {
      "cell_type": "code",
      "execution_count": null,
      "metadata": {
        "scrolled": true,
        "id": "XV174UvRz_Kw",
        "outputId": "749c9bb2-4a9a-40c9-b5a7-5d756fb29e2a"
      },
      "outputs": [
        {
          "name": "stdout",
          "output_type": "stream",
          "text": [
            "Final Data matrix\n",
            "(22445, 5101) (22445,)\n",
            "(11055, 5101) (11055,)\n",
            "(16500, 5101) (16500,)\n",
            "====================================================================================================\n"
          ]
        }
      ],
      "source": [
        "# merge two sparse matrices: https://stackoverflow.com/a/19710648/4084039\n",
        "from scipy.sparse import hstack\n",
        "Set1_tr = hstack((X_train_essay_bow, X_train_teacher_ohe, X_train_grade_ohe, X_train_state_ohe, X_train_clean_ohe, X_train_clean_sub_ohe, X_train_price_norm, X_train_previous_project_norm)).tocsr()\n",
        "Set1_cr = hstack((X_cv_essay_bow, X_cv_teacher_ohe, X_cv_grade_ohe, X_cv_state_ohe, X_cv_clean_ohe, X_cv_clean_sub_ohe, X_cv_price_norm, X_cv_previous_project_norm)).tocsr()\n",
        "Set1_te = hstack((X_test_essay_bow, X_test_teacher_ohe, X_test_grade_ohe, X_test_state_ohe, X_test_clean_ohe, X_test_clean_sub_ohe, X_test_price_norm, X_test_previous_project_norm)).tocsr()\n",
        "\n",
        "print(\"Final Data matrix\")\n",
        "print(Set1_tr.shape, y_train.shape)\n",
        "print(Set1_cr.shape, y_cv.shape)\n",
        "print(Set1_te.shape, y_test.shape)\n",
        "print(\"=\"*100)"
      ]
    },
    {
      "cell_type": "code",
      "execution_count": null,
      "metadata": {
        "id": "NGk600MMz_Kx",
        "outputId": "d81c6440-86df-4691-e3f2-dd3cd774dbed"
      },
      "outputs": [
        {
          "name": "stdout",
          "output_type": "stream",
          "text": [
            "Final Data matrix\n",
            "(22445, 5101) (22445,)\n",
            "(11055, 5101) (11055,)\n",
            "(16500, 5101) (16500,)\n",
            "====================================================================================================\n"
          ]
        }
      ],
      "source": [
        "# merge two sparse matrices: https://stackoverflow.com/a/19710648/4084039\n",
        "from scipy.sparse import hstack\n",
        "Set2_tr = hstack((X_train_essay_tfidf, X_train_teacher_ohe, X_train_grade_ohe, X_train_state_ohe, X_train_clean_ohe, X_train_clean_sub_ohe, X_train_price_norm, X_train_previous_project_norm)).tocsr()\n",
        "Set2_cr = hstack((X_cv_essay_tfidf, X_cv_teacher_ohe, X_cv_grade_ohe, X_cv_state_ohe, X_cv_clean_ohe, X_cv_clean_sub_ohe, X_cv_price_norm, X_cv_previous_project_norm)).tocsr()\n",
        "Set2_te = hstack((X_test_essay_tfidf, X_test_teacher_ohe, X_test_grade_ohe, X_test_state_ohe, X_test_clean_ohe, X_test_clean_sub_ohe, X_test_price_norm, X_test_previous_project_norm)).tocsr()\n",
        "\n",
        "print(\"Final Data matrix\")\n",
        "print(Set1_tr.shape, y_train.shape)\n",
        "print(Set1_cr.shape, y_cv.shape)\n",
        "print(Set1_te.shape, y_test.shape)\n",
        "print(\"=\"*100)"
      ]
    },
    {
      "cell_type": "markdown",
      "metadata": {
        "id": "KCoJfpGYz_Ky"
      },
      "source": [
        "## 2. Applying Naive Bayes on BOW, SET 1"
      ]
    },
    {
      "cell_type": "markdown",
      "metadata": {
        "id": "7G67QBGZz_Ky"
      },
      "source": [
        "### HYPER PARAMETER TUNING (SET  1)"
      ]
    },
    {
      "cell_type": "code",
      "execution_count": null,
      "metadata": {
        "id": "RIPCdb9fz_Kz",
        "outputId": "d023239d-5a9e-4d47-89f6-c450607f59ad"
      },
      "outputs": [
        {
          "name": "stderr",
          "output_type": "stream",
          "text": [
            "100%|████████████████████████████████████████████████████████████████████████████████████| 5/5 [00:00<00:00,  8.23it/s]\n"
          ]
        },
        {
          "data": {
            "image/png": "[encoded data removed]",
            "text/plain": [
              "<Figure size 432x288 with 1 Axes>"
            ]
          },
          "metadata": {},
          "output_type": "display_data"
        }
      ],
      "source": [
        "import matplotlib.pyplot as plt\n",
        "from tqdm import tqdm\n",
        "from sklearn.naive_bayes import MultinomialNB\n",
        "from sklearn.metrics import roc_auc_score\n",
        "\"\"\"\n",
        "y_true : array, shape = [n_samples] or [n_samples, n_classes]\n",
        "True binary labels or binary label indicators.\n",
        "\n",
        "y_score : array, shape = [n_samples] or [n_samples, n_classes]\n",
        "Target scores, can either be probability estimates of the positive class, confidence values, or non-thresholded measure of\n",
        "decisions (as returned by “decision_function” on some classifiers). \n",
        "For binary y_true, y_score is supposed to be the score of the class with greater label.\n",
        "\n",
        "\"\"\"\n",
        "\n",
        "train_auc = []\n",
        "cv_auc = []\n",
        "K = [3, 15, 25, 51, 101]\n",
        "for i in tqdm(K):\n",
        "    neigh =  MultinomialNB(alpha=i,class_prior=[0.5,0.5])\n",
        "    # n_jobs=-1  means we want to use all the course of the cpu to run the code faster\n",
        "    neigh.fit(Set1_tr, y_train)\n",
        "\n",
        "    y_train_pred = neigh.predict_proba(Set1_tr)[:,1]\n",
        "    y_cv_pred = neigh.predict_proba(Set1_cr)[:,1]\n",
        "\n",
        "    # roc_auc_score(y_true, y_score) the 2nd parameter should be probability estimates of the positive class\n",
        "    # not the predicted outputs        \n",
        "    train_auc.append(roc_auc_score(y_train,y_train_pred))\n",
        "    cv_auc.append(roc_auc_score(y_cv, y_cv_pred))\n",
        "\n",
        "plt.plot(K, train_auc, label='Train AUC')\n",
        "plt.plot(K, cv_auc, label='CV AUC')\n",
        "\n",
        "plt.scatter(K, train_auc, label='Train AUC points')\n",
        "plt.scatter(K, cv_auc, label='CV AUC points')\n",
        "\n",
        "plt.legend()\n",
        "plt.xlabel(\"K: hyperparameter\")\n",
        "plt.ylabel(\"AUC\")\n",
        "plt.title(\"ERROR PLOTS\")\n",
        "plt.grid()\n",
        "plt.show()"
      ]
    },
    {
      "cell_type": "code",
      "execution_count": null,
      "metadata": {
        "id": "FBTT0Mzrz_K1",
        "outputId": "baac14d4-6a70-4b86-be1d-978ba979305b"
      },
      "outputs": [
        {
          "data": {
            "image/png": "[encoded data removed]",
            "text/plain": [
              "<Figure size 432x288 with 1 Axes>"
            ]
          },
          "metadata": {},
          "output_type": "display_data"
        }
      ],
      "source": [
        "# https://scikit-learn.org/stable/modules/generated/sklearn.metrics.roc_curve.html#sklearn.metrics.roc_curve\n",
        "from sklearn.metrics import roc_curve, auc\n",
        "\n",
        "best_k = 101\n",
        "neigh =  MultinomialNB(alpha=best_k,class_prior=[0.5,0.5])\n",
        "neigh.fit(Set1_tr, y_train)\n",
        "# roc_auc_score(y_true, y_score) the 2nd parameter should be probability estimates of the positive class\n",
        "# not the predicted outputs\n",
        "\n",
        "y_train_pred = neigh.predict_proba(Set1_tr)[:,1]    \n",
        "y_test_pred = neigh.predict_proba(Set1_te)[:,1]\n",
        "\n",
        "train_fpr, train_tpr, tr_thresholds = roc_curve(y_train, y_train_pred)\n",
        "test_fpr, test_tpr, te_thresholds = roc_curve(y_test, y_test_pred)\n",
        "\n",
        "Set1_train_auc = str(auc(train_fpr, train_tpr))\n",
        "Set1_test_auc = str(auc(test_fpr, test_tpr))\n",
        "\n",
        "plt.plot(train_fpr, train_tpr, label=\"train AUC =\"+str(auc(train_fpr, train_tpr)))\n",
        "plt.plot(test_fpr, test_tpr, label=\"train AUC =\"+str(auc(test_fpr, test_tpr)))\n",
        "plt.legend()\n",
        "plt.xlabel(\"K: hyperparameter\")\n",
        "plt.ylabel(\"AUC\")\n",
        "plt.title(\"ERROR PLOTS\")\n",
        "plt.grid()\n",
        "plt.show()"
      ]
    },
    {
      "cell_type": "code",
      "execution_count": null,
      "metadata": {
        "id": "s75apveWz_K2"
      },
      "outputs": [],
      "source": [
        "# we are writing our own function for predict, with defined thresould\n",
        "# we will pick a threshold that will give the least fpr\n",
        "def find_best_threshold(threshould, fpr, tpr):\n",
        "    t = threshould[np.argmax(tpr*(1-fpr))]\n",
        "    # (tpr*(1-fpr)) will be maximum if your fpr is very low and tpr is very high\n",
        "    print(\"the maximum value of tpr*(1-fpr)\", max(tpr*(1-fpr)), \"for threshold\", np.round(t,3))\n",
        "    return t\n",
        "\n",
        "def predict_with_best_t(proba, threshould):\n",
        "    predictions = []\n",
        "    for i in proba:\n",
        "        if i>=threshould:\n",
        "            predictions.append(1)\n",
        "        else:\n",
        "            predictions.append(0)\n",
        "    return predictions"
      ]
    },
    {
      "cell_type": "code",
      "execution_count": null,
      "metadata": {
        "id": "qpgSbyG-z_K3",
        "outputId": "8a2ccdb8-a648-4a8c-9ee0-699a6ae68e71"
      },
      "outputs": [
        {
          "name": "stdout",
          "output_type": "stream",
          "text": [
            "====================================================================================================\n",
            "the maximum value of tpr*(1-fpr) 0.3786042359156359 for threshold 1.0\n",
            "Train confusion matrix\n",
            "[[ 2200  1395]\n",
            " [ 7188 11662]]\n",
            "Test confusion matrix\n",
            "[[1490 1152]\n",
            " [5433 8425]]\n"
          ]
        }
      ],
      "source": [
        "import numpy as np\n",
        "print(\"=\"*100)\n",
        "from sklearn.metrics import confusion_matrix\n",
        "best_t = find_best_threshold(tr_thresholds, train_fpr, train_tpr)\n",
        "print(\"Train confusion matrix\")\n",
        "print(confusion_matrix(y_train, predict_with_best_t(y_train_pred, best_t)))\n",
        "print(\"Test confusion matrix\")\n",
        "print(confusion_matrix(y_test, predict_with_best_t(y_test_pred, best_t)))"
      ]
    },
    {
      "cell_type": "markdown",
      "metadata": {
        "id": "GQ3XkbuKz_K3"
      },
      "source": [
        "## Applying Naive Bayes on BOW, SET 2"
      ]
    },
    {
      "cell_type": "markdown",
      "metadata": {
        "id": "_4dyxxyQz_K4"
      },
      "source": [
        "### HYPERPARAMETER TUNING SET 2"
      ]
    },
    {
      "cell_type": "code",
      "execution_count": null,
      "metadata": {
        "id": "7GmD7Y6qz_K4",
        "outputId": "df98372d-7403-451c-903f-38b9324db666"
      },
      "outputs": [
        {
          "name": "stderr",
          "output_type": "stream",
          "text": [
            "100%|████████████████████████████████████████████████████████████████████████████████████| 5/5 [00:00<00:00,  8.99it/s]\n"
          ]
        },
        {
          "data": {
            "image/png": "[encoded data removed]",
            "text/plain": [
              "<Figure size 432x288 with 1 Axes>"
            ]
          },
          "metadata": {},
          "output_type": "display_data"
        }
      ],
      "source": [
        "import matplotlib.pyplot as plt\n",
        "from tqdm import tqdm\n",
        "from sklearn.naive_bayes import MultinomialNB\n",
        "from sklearn.metrics import roc_auc_score\n",
        "\"\"\"\n",
        "y_true : array, shape = [n_samples] or [n_samples, n_classes]\n",
        "True binary labels or binary label indicators.\n",
        "\n",
        "y_score : array, shape = [n_samples] or [n_samples, n_classes]\n",
        "Target scores, can either be probability estimates of the positive class, confidence values, or non-thresholded measure of\n",
        "decisions (as returned by “decision_function” on some classifiers). \n",
        "For binary y_true, y_score is supposed to be the score of the class with greater label.\n",
        "\n",
        "\"\"\"\n",
        "\n",
        "train_auc = []\n",
        "cv_auc = []\n",
        "K = [3, 15, 25, 51, 101]\n",
        "for i in tqdm(K):\n",
        "    neigh =  MultinomialNB(alpha=i,class_prior=[0.5,0.5])\n",
        "    # n_jobs=-1  means we want to use all the course of the cpu to run the code faster\n",
        "    neigh.fit(Set2_tr, y_train)\n",
        "\n",
        "    y_train_pred = neigh.predict_proba(Set2_tr)[:,1]\n",
        "    y_cv_pred = neigh.predict_proba(Set2_cr)[:,1]\n",
        "\n",
        "    # roc_auc_score(y_true, y_score) the 2nd parameter should be probability estimates of the positive class\n",
        "    # not the predicted outputs        \n",
        "    train_auc.append(roc_auc_score(y_train,y_train_pred))\n",
        "    cv_auc.append(roc_auc_score(y_cv, y_cv_pred))\n",
        "\n",
        "plt.plot(K, train_auc, label='Train AUC')\n",
        "plt.plot(K, cv_auc, label='CV AUC')\n",
        "\n",
        "plt.scatter(K, train_auc, label='Train AUC points')\n",
        "plt.scatter(K, cv_auc, label='CV AUC points')\n",
        "\n",
        "plt.legend()\n",
        "plt.xlabel(\"K: hyperparameter\")\n",
        "plt.ylabel(\"AUC\")\n",
        "plt.title(\"ERROR PLOTS\")\n",
        "plt.grid()\n",
        "plt.show()"
      ]
    },
    {
      "cell_type": "code",
      "execution_count": null,
      "metadata": {
        "id": "TZqIi0WVz_K5",
        "outputId": "2cf00de2-92f5-467a-8424-8317732b6ea8"
      },
      "outputs": [
        {
          "data": {
            "image/png": "[encoded data removed]",
            "text/plain": [
              "<Figure size 432x288 with 1 Axes>"
            ]
          },
          "metadata": {},
          "output_type": "display_data"
        }
      ],
      "source": [
        "# https://scikit-learn.org/stable/modules/generated/sklearn.metrics.roc_curve.html#sklearn.metrics.roc_curve\n",
        "from sklearn.metrics import roc_curve, auc\n",
        "\n",
        "best_k = 101\n",
        "neigh =  MultinomialNB(alpha=best_k,class_prior=[0.5,0.5])\n",
        "neigh.fit(Set2_tr, y_train)\n",
        "# roc_auc_score(y_true, y_score) the 2nd parameter should be probability estimates of the positive class\n",
        "# not the predicted outputs\n",
        "\n",
        "y_train_pred = neigh.predict_proba(Set2_tr)[:,1]    \n",
        "y_test_pred = neigh.predict_proba(Set2_te)[:,1]\n",
        "\n",
        "train_fpr, train_tpr, tr_thresholds = roc_curve(y_train, y_train_pred)\n",
        "test_fpr, test_tpr, te_thresholds = roc_curve(y_test, y_test_pred)\n",
        "\n",
        "Set2_train_auc = str(auc(train_fpr, train_tpr))\n",
        "Set2_test_auc = str(auc(test_fpr, test_tpr))\n",
        "\n",
        "plt.plot(train_fpr, train_tpr, label=\"train AUC =\"+str(auc(train_fpr, train_tpr)))\n",
        "plt.plot(test_fpr, test_tpr, label=\"train AUC =\"+str(auc(test_fpr, test_tpr)))\n",
        "plt.legend()\n",
        "plt.xlabel(\"K: hyperparameter\")\n",
        "plt.ylabel(\"AUC\")\n",
        "plt.title(\"ERROR PLOTS\")\n",
        "plt.grid()\n",
        "plt.show()"
      ]
    },
    {
      "cell_type": "code",
      "execution_count": null,
      "metadata": {
        "id": "FWw9FdUrz_K6"
      },
      "outputs": [],
      "source": [
        "# we are writing our own function for predict, with defined thresould\n",
        "# we will pick a threshold that will give the least fpr\n",
        "def find_best_threshold(threshould, fpr, tpr):\n",
        "    t = threshould[np.argmax(tpr*(1-fpr))]\n",
        "    # (tpr*(1-fpr)) will be maximum if your fpr is very low and tpr is very high\n",
        "    print(\"the maximum value of tpr*(1-fpr)\", max(tpr*(1-fpr)), \"for threshold\", np.round(t,3))\n",
        "    return t\n",
        "\n",
        "def predict_with_best_t(proba, threshould):\n",
        "    predictions = []\n",
        "    for i in proba:\n",
        "        if i>=threshould:\n",
        "            predictions.append(1)\n",
        "        else:\n",
        "            predictions.append(0)\n",
        "    return predictions"
      ]
    },
    {
      "cell_type": "code",
      "execution_count": null,
      "metadata": {
        "id": "4or5gUDoz_K6",
        "outputId": "f46fed4f-f1ec-4224-d234-6dfe048605d4"
      },
      "outputs": [
        {
          "name": "stdout",
          "output_type": "stream",
          "text": [
            "====================================================================================================\n",
            "the maximum value of tpr*(1-fpr) 0.2729891575021305 for threshold 1.0\n",
            "Train confusion matrix\n",
            "[[ 1751  1844]\n",
            " [ 8285 10565]]\n",
            "Test confusion matrix\n",
            "[[1266 1376]\n",
            " [6142 7716]]\n"
          ]
        }
      ],
      "source": [
        "import numpy as np\n",
        "print(\"=\"*100)\n",
        "from sklearn.metrics import confusion_matrix\n",
        "best_t = find_best_threshold(tr_thresholds, train_fpr, train_tpr)\n",
        "print(\"Train confusion matrix\")\n",
        "print(confusion_matrix(y_train, predict_with_best_t(y_train_pred, best_t)))\n",
        "print(\"Test confusion matrix\")\n",
        "print(confusion_matrix(y_test, predict_with_best_t(y_test_pred, best_t)))"
      ]
    },
    {
      "cell_type": "markdown",
      "metadata": {
        "id": "fZI19634z_K7"
      },
      "source": [
        "###  Top 10 important features of positive class from SET 1"
      ]
    },
    {
      "cell_type": "code",
      "execution_count": null,
      "metadata": {
        "id": "_ugK1uhuz_K7",
        "outputId": "9574261c-8752-4386-ab44-1bc186cf46b7"
      },
      "outputs": [
        {
          "data": {
            "text/plain": [
              "MultinomialNB(alpha=101, class_prior=[0.5, 0.5])"
            ]
          },
          "execution_count": 21,
          "metadata": {},
          "output_type": "execute_result"
        }
      ],
      "source": [
        "best_k = 101\n",
        "nb_alp = MultinomialNB(alpha =best_k ,class_prior=[0.5,0.5])\n",
        "nb_alp.fit(Set1_tr, y_train)"
      ]
    },
    {
      "cell_type": "code",
      "execution_count": null,
      "metadata": {
        "id": "XHaG5wSmz_K7"
      },
      "outputs": [],
      "source": [
        "neg_class_prob_sorted = nb_alp.feature_log_prob_[0, :].argsort()\n",
        "pos_class_prob_sorted = nb_alp.feature_log_prob_[1, :].argsort()"
      ]
    },
    {
      "cell_type": "code",
      "execution_count": null,
      "metadata": {
        "id": "xKr70IoWz_K8"
      },
      "outputs": [],
      "source": [
        "# https://stackoverflow.com/questions/14131615/possible-to-append-multiple-lists-at-once-python\n",
        "from itertools import chain\n",
        "Stacked_Feature_list = list(chain(vectorizer1.get_feature_names(),vectorizer2.get_feature_names(),vectorizer3.get_feature_names(),\\\n",
        "                                  vectorizer4.get_feature_names(),vectorizer5.get_feature_names(),vectorizer6.get_feature_names()))"
      ]
    },
    {
      "cell_type": "code",
      "execution_count": null,
      "metadata": {
        "scrolled": true,
        "id": "CUX7d5vHz_K8",
        "outputId": "68012eaf-d433-4550-d662-90eccf9018c4"
      },
      "outputs": [
        {
          "name": "stdout",
          "output_type": "stream",
          "text": [
            "The words with higest importance in Postive class is\n",
            "['dr' 'warmth' 'care_hunger' 'warmth' 'care_hunger' 'wy' 'vt' 'nd'\n",
            " 'financialliteracy' 'economics']\n",
            "********************\n",
            "The words with higest importance in Negative class is\n",
            "['warmth' 'care_hunger' 'wy' 'warmth' 'care_hunger' 'dr' 'nd' 'ri'\n",
            " 'economics' 'vt']\n"
          ]
        }
      ],
      "source": [
        "import numpy as np\n",
        "print(\"The words with higest importance in Postive class is\")\n",
        "print(np.take(Stacked_Feature_list,pos_class_prob_sorted[0:10]))\n",
        "print(\"*\"*20)\n",
        "print(\"The words with higest importance in Negative class is\")\n",
        "print(np.take(Stacked_Feature_list, neg_class_prob_sorted[0:10]))"
      ]
    },
    {
      "cell_type": "markdown",
      "metadata": {
        "id": "XqFs4Le1z_K-"
      },
      "source": [
        "## 3. Summary"
      ]
    },
    {
      "cell_type": "code",
      "execution_count": null,
      "metadata": {
        "scrolled": true,
        "id": "bdQCVbhlz_K_",
        "outputId": "f4e27fe3-4d26-4cb9-b4b6-a87daa12e981"
      },
      "outputs": [
        {
          "name": "stdout",
          "output_type": "stream",
          "text": [
            "+------------+-------------+-----------------+--------------------+--------------------+\n",
            "| Vectorizer |    Model    | Hyper Parameter |     Train AUC      |      TEST AUC      |\n",
            "+------------+-------------+-----------------+--------------------+--------------------+\n",
            "|    BOW     | Naive Bayes |       101       | 0.645035751836289  | 0.624979351503937  |\n",
            "|            |             |                 |                    |                    |\n",
            "|   TFIDF    | Naive Bayes |       101       | 0.5427433474874845 | 0.5189671458392352 |\n",
            "+------------+-------------+-----------------+--------------------+--------------------+\n"
          ]
        }
      ],
      "source": [
        "from prettytable import PrettyTable\n",
        "#If you get a ModuleNotFoundError error , install prettytable using: pip3 install prettytable\n",
        "\n",
        "x = PrettyTable()\n",
        "x.field_names = [\"Vectorizer\", \"Model\", \"Hyper Parameter\", \"Train AUC\", \"TEST AUC\"]\n",
        "\n",
        "\n",
        "x.add_row([\"BOW\", \"Naive Bayes\", best_k , Set1_train_auc , Set1_test_auc])\n",
        "x.add_row([\" \", \" \", \" \", \" \",\" \"])\n",
        "x.add_row([\"TFIDF\", \"Naive Bayes\", best_k , Set2_train_auc , Set2_test_auc])\n",
        "\n",
        "print(x)"
      ]
    }
  ],
  "metadata": {
    "kernelspec": {
      "display_name": "Python 3",
      "language": "python",
      "name": "python3"
    },
    "language_info": {
      "codemirror_mode": {
        "name": "ipython",
        "version": 3
      },
      "file_extension": ".py",
      "mimetype": "text/x-python",
      "name": "python",
      "nbconvert_exporter": "python",
      "pygments_lexer": "ipython3",
      "version": "3.6.5"
    },
    "colab": {
      "provenance": []
    }
  },
  "nbformat": 4,
  "nbformat_minor": 0
}